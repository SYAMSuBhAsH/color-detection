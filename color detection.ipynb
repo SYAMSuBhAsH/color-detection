{
 "cells": [
  {
   "cell_type": "code",
   "execution_count": 3,
   "metadata": {},
   "outputs": [
    {
     "ename": "SyntaxError",
     "evalue": "invalid syntax (<ipython-input-3-1fd8ba0f2918>, line 4)",
     "output_type": "error",
     "traceback": [
      "\u001b[1;36m  File \u001b[1;32m\"<ipython-input-3-1fd8ba0f2918>\"\u001b[1;36m, line \u001b[1;32m4\u001b[0m\n\u001b[1;33m    --------------------------------------------------------------------------\u001b[0m\n\u001b[1;37m                                                                               ^\u001b[0m\n\u001b[1;31mSyntaxError\u001b[0m\u001b[1;31m:\u001b[0m invalid syntax\n"
     ]
    }
   ],
   "source": [
    "import cv2\n",
    "import pandas as pd \n",
    "# \n",
    "-------------------------------------------------------------------------- \n",
    "img_path = 'pic1.jpg' \n",
    "csv_path = 'colors.csv' \n",
    "# reading csv file \n",
    "index = ['color', 'color_name', 'hex', 'R', 'G', 'B'] \n",
    "df = pd.read_csv(csv_path, names=index, header=None) \n",
    "# reading image \n",
    "img = cv2.imread(img_path) \n",
    "img = cv2.resize(img, (800,600)) \n",
    "#declaring global variables \n",
    "clicked = False \n",
    "r = g = b = xpos = ypos = 0 \n",
    "#function to calculate minimum distance from all colors and get the most matching color \n",
    "def get_color_name(R,G,B): \n",
    "minimum = 1000 \n",
    "for i in range(len(df)): \n",
    "d = abs(R - int(df.loc[i,'R'])) + abs(G - int(df.loc[i,'G'])) + abs(B - int(df.loc[i,'B'])) \n",
    "if d <= minimum: \n",
    "minimum = d \n",
    "cname = df.loc[i, 'color_name'] \n",
    "return cname \n",
    "#function to get x,y coordinates of mouse double click \n",
    "def draw_function(event, x, y, flags, params): \n",
    "if event == cv2.EVENT_LBUTTONDBLCLK: \n",
    "global b, g, r, xpos, ypos, clicked\n",
    "clicked = True \n",
    "xpos = x \n",
    "ypos = y \n",
    "b,g,r = img[y,x] \n",
    "b = int(b) \n",
    "g = int(g) \n",
    "r = int(r) \n",
    "# creating window \n",
    "cv2.namedWindow('image') \n",
    "cv2.setMouseCallback('image', draw_function) \n",
    "while True: \n",
    "cv2.imshow('image', img) \n",
    "if clicked: \n",
    "#cv2.rectangle(image, startpoint, endpoint, color, \n",
    "thickness)-1 fills entire rectangle \n",
    "cv2.rectangle(img, (20,20), (600,60), (b,g,r), -1) \n",
    "#Creating text string to display( Color name and RGB values ) text = get_color_name(r,g,b) + ' R=' + str(r) + ' G=' + str(g) + ' B=' + str(b) \n",
    "#cv2.putText(img,text,start,font(0-7),fontScale,color,thickness,lineType ) cv2.putText(img, text, (50,50), 2,0.8, \n",
    "(255,255,255),2,cv2.LINE_AA) \n",
    "#For very light colours we will display text in black colour if r+g+b >=600: \n",
    "cv2.putText(img, text, (50,50), 2,0.8, \n",
    "(0,0,0),2,cv2.LINE_AA) \n",
    "if cv2.waitKey(20) & 0xFF == 27: \n",
    "break \n",
    "cv2.destroyAllWindows()\n"
   ]
  },
  {
   "cell_type": "code",
   "execution_count": null,
   "metadata": {},
   "outputs": [],
   "source": []
  }
 ],
 "metadata": {
  "kernelspec": {
   "display_name": "Python 3",
   "language": "python",
   "name": "python3"
  },
  "language_info": {
   "codemirror_mode": {
    "name": "ipython",
    "version": 3
   },
   "file_extension": ".py",
   "mimetype": "text/x-python",
   "name": "python",
   "nbconvert_exporter": "python",
   "pygments_lexer": "ipython3",
   "version": "3.8.5"
  }
 },
 "nbformat": 4,
 "nbformat_minor": 4
}
